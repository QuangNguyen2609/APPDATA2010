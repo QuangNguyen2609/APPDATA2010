{
 "cells": [
  {
   "cell_type": "code",
   "execution_count": null,
   "metadata": {},
   "outputs": [],
   "source": [
    "\n"
   ]
  },
  {
   "cell_type": "markdown",
   "metadata": {},
   "source": [
    "# Section 1 - Blood Glucose Data\n",
    "+ The first section describes simulated blood glucose levels for five people who don't have diabetes.\n",
    "+ Healthy levels are considered to be between 60 and 126 milligrams per deciliter (mg/dL)."
   ]
  },
  {
   "cell_type": "code",
   "execution_count": 5,
   "metadata": {},
   "outputs": [
    {
     "name": "stdout",
     "output_type": "stream",
     "text": [
      "The glucose in the blood of person 1 is: 112 mg/dL\n",
      "The glucose in the blood of person 2 is: 73 mg/dL\n",
      "The glucose in the blood of person 3 is: 89 mg/dL\n",
      "The glucose in the blood of person 4 is: 107 mg/dL\n",
      "The glucose in the blood of person 5 is: 111 mg/dL\n"
     ]
    }
   ],
   "source": [
    "import random\n",
    "for i in range(5):\n",
    "    print(f\"The glucose in the blood of person {i+1} is:\", random.randint(60, 126), \"mg/dL\")"
   ]
  },
  {
   "cell_type": "markdown",
   "metadata": {},
   "source": [
    "# Section 2 – BMI calculator\n",
    "+ The second section calculates the Body Mass Index (BMI) in $kg/m^2$. \n",
    "+ The BMI is\n",
    "calculated as body mass (colloquially called weight) divided by height squared or:\n",
    "$BMI = m/h^2$\n",
    "(where m is the person’s weight in kg and h is their height in metres)\n"
   ]
  },
  {
   "cell_type": "code",
   "execution_count": 6,
   "metadata": {},
   "outputs": [
    {
     "name": "stdout",
     "output_type": "stream",
     "text": [
      "Your BMI is:  21.91\n"
     ]
    }
   ],
   "source": [
    "# prompt the weight and height from input\n",
    "weight = float(input(\"Enter your weight in kg: \"))\n",
    "height = float(input(\"Enter your height in m: \"))\n",
    "# calculate the BMI\n",
    "BMI = round(weight / (height**2), 2)\n",
    "print(\"Your BMI is: \", BMI)"
   ]
  },
  {
   "cell_type": "markdown",
   "metadata": {},
   "source": [
    "# Section 3 – DNA\n",
    "+ The final section determines the number of times each of the four\n",
    "nucleobases: adenine, guanine, cytosine, and thymine appears in a DNA sequence.\n",
    "+ The DNA sequence is represented as the letters of the nucleobases in the order they appear. For\n",
    "example: GAATAACA"
   ]
  },
  {
   "cell_type": "code",
   "execution_count": 12,
   "metadata": {},
   "outputs": [
    {
     "name": "stdout",
     "output_type": "stream",
     "text": [
      "The DNA sequence is: GA,ATaACa\n",
      "The normalized DNA sequence is: GAATAACA\n",
      "Number of times each nucleobase occurs:\n",
      "Adenine: 5\n",
      "Thymine: 1\n",
      "Guanine: 1\n",
      "Cytosine: 1\n"
     ]
    }
   ],
   "source": [
    "DNA = input(\"Enter the DNA sequence:\")\n",
    "print(\"The DNA sequence is:\", DNA)\n",
    "# normalize the DNA sequence to all upper case\n",
    "DNA = DNA.upper()\n",
    "# remove , . and space from the DNA sequence\n",
    "DNA = DNA.replace(\",\", \"\")\n",
    "DNA = DNA.replace(\".\", \"\")\n",
    "DNA = DNA.replace(\" \", \"\")\n",
    "print(\"The normalized DNA sequence is:\", DNA)\n",
    "print(\"Number of times each nucleobase occurs:\")\n",
    "A = DNA.count(\"A\")\n",
    "T = DNA.count(\"T\")\n",
    "G = DNA.count(\"G\")\n",
    "C = DNA.count(\"C\")\n",
    "\n",
    "print(\"Adenine:\", A)\n",
    "print(\"Thymine:\", T)\n",
    "print(\"Guanine:\", G)\n",
    "print(\"Cytosine:\", C)\n"
   ]
  },
  {
   "cell_type": "code",
   "execution_count": null,
   "metadata": {},
   "outputs": [],
   "source": []
  }
 ],
 "metadata": {
  "kernelspec": {
   "display_name": "Python 3",
   "language": "python",
   "name": "python3"
  },
  "language_info": {
   "codemirror_mode": {
    "name": "ipython",
    "version": 3
   },
   "file_extension": ".py",
   "mimetype": "text/x-python",
   "name": "python",
   "nbconvert_exporter": "python",
   "pygments_lexer": "ipython3",
   "version": "3.11.8"
  }
 },
 "nbformat": 4,
 "nbformat_minor": 2
}
